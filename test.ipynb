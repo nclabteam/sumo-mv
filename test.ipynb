{
 "cells": [
  {
   "cell_type": "code",
   "execution_count": null,
   "metadata": {},
   "outputs": [
    {
     "ename": "",
     "evalue": "",
     "output_type": "error",
     "traceback": [
      "\u001b[1;31mFailed to start the Kernel. \n",
      "\u001b[1;31mJupyter server crashed. Unable to connect. \n",
      "\u001b[1;31mError code from Jupyter: 1\n",
      "\u001b[1;31mTraceback (most recent call last):\n",
      "\u001b[1;31m  File \"/home/mak36/.local/bin/jupyter-notebook\", line 5, in <module>\n",
      "\u001b[1;31m    from notebook.notebookapp import main\n",
      "\u001b[1;31m  File \"/home/mak36/.local/lib/python3.8/site-packages/notebook/notebookapp.py\", line 43, in <module>\n",
      "\u001b[1;31m    from jinja2 import Environment, FileSystemLoader\n",
      "\u001b[1;31m  File \"/home/mak36/.local/lib/python3.8/site-packages/jinja2/__init__.py\", line 12, in <module>\n",
      "\u001b[1;31m    from .environment import Environment\n",
      "\u001b[1;31m  File \"/home/mak36/.local/lib/python3.8/site-packages/jinja2/environment.py\", line 25, in <module>\n",
      "\u001b[1;31m    from .defaults import BLOCK_END_STRING\n",
      "\u001b[1;31m  File \"/home/mak36/.local/lib/python3.8/site-packages/jinja2/defaults.py\", line 3, in <module>\n",
      "\u001b[1;31m    from .filters import FILTERS as DEFAULT_FILTERS  # noqa: F401\n",
      "\u001b[1;31m  File \"/home/mak36/.local/lib/python3.8/site-packages/jinja2/filters.py\", line 13, in <module>\n",
      "\u001b[1;31m    from markupsafe import soft_unicode\n",
      "\u001b[1;31mImportError: cannot import name 'soft_unicode' from 'markupsafe' (/home/mak36/.local/lib/python3.8/site-packages/markupsafe/__init__.py). \n",
      "\u001b[1;31mView Jupyter <a href='command:jupyter.viewOutput'>log</a> for further details."
     ]
    }
   ],
   "source": [
    "from Vehicle import Vehicle"
   ]
  },
  {
   "cell_type": "code",
   "execution_count": null,
   "metadata": {},
   "outputs": [
    {
     "ename": "",
     "evalue": "",
     "output_type": "error",
     "traceback": [
      "\u001b[1;31mFailed to start the Kernel. \n",
      "\u001b[1;31mJupyter server crashed. Unable to connect. \n",
      "\u001b[1;31mError code from Jupyter: 1\n",
      "\u001b[1;31mTraceback (most recent call last):\n",
      "\u001b[1;31m  File \"/home/mak36/.local/bin/jupyter-notebook\", line 5, in <module>\n",
      "\u001b[1;31m    from notebook.notebookapp import main\n",
      "\u001b[1;31m  File \"/home/mak36/.local/lib/python3.8/site-packages/notebook/notebookapp.py\", line 43, in <module>\n",
      "\u001b[1;31m    from jinja2 import Environment, FileSystemLoader\n",
      "\u001b[1;31m  File \"/home/mak36/.local/lib/python3.8/site-packages/jinja2/__init__.py\", line 12, in <module>\n",
      "\u001b[1;31m    from .environment import Environment\n",
      "\u001b[1;31m  File \"/home/mak36/.local/lib/python3.8/site-packages/jinja2/environment.py\", line 25, in <module>\n",
      "\u001b[1;31m    from .defaults import BLOCK_END_STRING\n",
      "\u001b[1;31m  File \"/home/mak36/.local/lib/python3.8/site-packages/jinja2/defaults.py\", line 3, in <module>\n",
      "\u001b[1;31m    from .filters import FILTERS as DEFAULT_FILTERS  # noqa: F401\n",
      "\u001b[1;31m  File \"/home/mak36/.local/lib/python3.8/site-packages/jinja2/filters.py\", line 13, in <module>\n",
      "\u001b[1;31m    from markupsafe import soft_unicode\n",
      "\u001b[1;31mImportError: cannot import name 'soft_unicode' from 'markupsafe' (/home/mak36/.local/lib/python3.8/site-packages/markupsafe/__init__.py). \n",
      "\u001b[1;31mView Jupyter <a href='command:jupyter.viewOutput'>log</a> for further details."
     ]
    }
   ],
   "source": [
    "veh1 = Vehicle(1)\n",
    "veh2 = Vehicle(2)\n",
    "veh3 = Vehicle(3)"
   ]
  }
 ],
 "metadata": {
  "kernelspec": {
   "display_name": "venv-sumo",
   "language": "python",
   "name": "python3"
  },
  "language_info": {
   "name": "python",
   "version": "3.8.10"
  },
  "orig_nbformat": 4,
  "vscode": {
   "interpreter": {
    "hash": "29610b1100c09bf62d8517bcfe3d0a5fe3ef0412f15f810317021bb3b2271813"
   }
  }
 },
 "nbformat": 4,
 "nbformat_minor": 2
}
